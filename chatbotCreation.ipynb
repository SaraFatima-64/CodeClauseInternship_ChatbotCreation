{
 "cells": [
  {
   "cell_type": "code",
   "execution_count": 21,
   "id": "4d5ea0a5-c8fd-410f-b5dc-7ff92535e5bf",
   "metadata": {},
   "outputs": [
    {
     "name": "stdout",
     "output_type": "stream",
     "text": [
      "Requirement already satisfied: nltk in c:\\users\\g15\\anaconda3\\lib\\site-packages (3.9.1)\n",
      "Requirement already satisfied: click in c:\\users\\g15\\anaconda3\\lib\\site-packages (from nltk) (8.1.7)\n",
      "Requirement already satisfied: joblib in c:\\users\\g15\\appdata\\roaming\\python\\python312\\site-packages (from nltk) (1.4.2)\n",
      "Requirement already satisfied: regex>=2021.8.3 in c:\\users\\g15\\anaconda3\\lib\\site-packages (from nltk) (2024.9.11)\n",
      "Requirement already satisfied: tqdm in c:\\users\\g15\\anaconda3\\lib\\site-packages (from nltk) (4.66.5)\n",
      "Requirement already satisfied: colorama in c:\\users\\g15\\appdata\\roaming\\python\\python312\\site-packages (from click->nltk) (0.4.6)\n",
      "Note: you may need to restart the kernel to use updated packages.\n"
     ]
    },
    {
     "name": "stderr",
     "output_type": "stream",
     "text": [
      "WARNING: Ignoring invalid distribution ~umpy (C:\\Users\\G15\\AppData\\Roaming\\Python\\Python312\\site-packages)\n",
      "WARNING: Ignoring invalid distribution ~umpy (C:\\Users\\G15\\AppData\\Roaming\\Python\\Python312\\site-packages)\n",
      "WARNING: Ignoring invalid distribution ~umpy (C:\\Users\\G15\\AppData\\Roaming\\Python\\Python312\\site-packages)\n",
      "WARNING: Ignoring invalid distribution ~umpy (C:\\Users\\G15\\AppData\\Roaming\\Python\\Python312\\site-packages)\n"
     ]
    }
   ],
   "source": [
    "pip install nltk"
   ]
  },
  {
   "cell_type": "code",
   "execution_count": 22,
   "id": "4bfbddbf-2830-43fc-b902-dfdb9d80d3a1",
   "metadata": {},
   "outputs": [],
   "source": [
    "import random\n",
    "import nltk\n",
    "from nltk.tokenize import word_tokenize\n",
    "from nltk.corpus import stopwords\n",
    "import string\n",
    "import datetime"
   ]
  },
  {
   "cell_type": "code",
   "execution_count": 23,
   "id": "81540dcf-32b1-4387-a953-fc1b082018dd",
   "metadata": {},
   "outputs": [
    {
     "name": "stderr",
     "output_type": "stream",
     "text": [
      "[nltk_data] Downloading package punkt to\n",
      "[nltk_data]     C:\\Users\\G15\\AppData\\Roaming\\nltk_data...\n",
      "[nltk_data]   Package punkt is already up-to-date!\n",
      "[nltk_data] Downloading package stopwords to\n",
      "[nltk_data]     C:\\Users\\G15\\AppData\\Roaming\\nltk_data...\n",
      "[nltk_data]   Package stopwords is already up-to-date!\n"
     ]
    },
    {
     "data": {
      "text/plain": [
       "True"
      ]
     },
     "execution_count": 23,
     "metadata": {},
     "output_type": "execute_result"
    }
   ],
   "source": [
    "nltk.download('punkt')\n",
    "nltk.download('stopwords')"
   ]
  },
  {
   "cell_type": "code",
   "execution_count": 24,
   "id": "6b1833ba-4ecc-477d-83b9-2d1ce7d18c44",
   "metadata": {},
   "outputs": [],
   "source": [
    "intents = {\n",
    "    'greeting' : {\n",
    "        'patterns' : ['hello','hi','hey','good morning','good evening','how are you','hola','greetings'],\n",
    "        'responses' : ['Hello!','Hi there!','Hey!','Greetings! How can I assist you?']\n",
    "    },\n",
    "    'goodbye' : {\n",
    "        'patterns' : ['bye','see you','goodbye','see you later','farewell','take care'],\n",
    "        'responses' : ['Goodbye','See you later','Take care','Have a nice day']\n",
    "    },\n",
    "    'thanks' : {\n",
    "        'patterns' : ['thankyou','thanks','much appreciated','thanks a lot','thank you very much'],\n",
    "        'responses' : ['you\\'re welcome!','No problem!','Happy to help!','Anytime!']\n",
    "    },\n",
    "    'age' : {\n",
    "        'patterns' : ['how old are you','What is your age','age?'],\n",
    "        'responses' : ['I am a chatbot created by OpenAI.I don\\'t have an age']\n",
    "    },\n",
    "    'name' : {\n",
    "        'patterns' : ['what is your name','who are you','tell me your name','your name?'],\n",
    "        'responses' : ['I am Chatbot','You can call me Chatbot','I am your friendly Chatbot Assistance']\n",
    "    },\n",
    "    'help' : {\n",
    "        'patterns' : ['help','can you assist me','i need help','support','can you help me','what can you do'],\n",
    "        'responses' : ['I am here to help you!You can ask me anything.','Sure, I can assist you with different tasks.','Feel free to ask any questions!']\n",
    "    },\n",
    "    'time' : {\n",
    "        'patterns' : ['what time is it','tell me the time','current time','time now'],\n",
    "        'responses' : []\n",
    "    },\n",
    "    'date' : {\n",
    "        'patterns' : ['what date is it', 'tell me the data','today\\'s date','date today'],\n",
    "        'responses' : []\n",
    "    },\n",
    "    'food' : {\n",
    "        'patterns' : ['What should i eat','recommend food','i am hungry','suggest a meal','food ideas'],\n",
    "        'responses' : ['How abount a nice salad with fresh veggies?','Maybe try some pasta or a delicious sandwich!','A healthy smoothie might be great right now']\n",
    "    },\n",
    "    'bot_capabiliies' : {\n",
    "        'patterns' : ['what can you do','your capabilities','what are you good at','what do you do'],\n",
    "        'responses' : ['I can chat with you and answer simple questions.','I love chatting and helping out with basic information.','I can answer questions and keep you company']\n",
    "    },\n",
    "    'personal_opinion' : {\n",
    "        'patterns' : ['do you like music','what is your favorite movie','what do you like','favorite color'],\n",
    "        'responses' : ['I don\\'t have feelings or likes , but I enjoy chatting with you!','I don\\'t have favorites, but i like learning new things from our conversations!']\n",
    "    },\n",
    "    'default' : {\n",
    "        'responses' : [\"Sorry i din't understand that.\",\"Could you rephrase?\",\"I'm not sure I understand.\"]\n",
    "    }\n",
    "}\n",
    "    "
   ]
  },
  {
   "cell_type": "code",
   "execution_count": 25,
   "id": "5d6f37ec-d95a-487a-b439-180232e5e0ba",
   "metadata": {},
   "outputs": [],
   "source": [
    "stop_words = set(stopwords.words('english'))"
   ]
  },
  {
   "cell_type": "code",
   "execution_count": 26,
   "id": "0c3baa35-f6ca-476a-a2d5-ae7ffc9fae21",
   "metadata": {},
   "outputs": [],
   "source": [
    "def preprocess(text):\n",
    "    text = text.lower()\n",
    "    text = text.translate(str.maketrans('','',string.punctuation))\n",
    "    words = word_tokenize(text)\n",
    "    filtered_words = [w for w in words if w not in stop_words]\n",
    "    return filtered_words"
   ]
  },
  {
   "cell_type": "code",
   "execution_count": 27,
   "id": "76e61e22-76ac-460b-8c9f-f8bb6707480b",
   "metadata": {},
   "outputs": [],
   "source": [
    "def similarity_score(input_tokens, pattern_tokens):\n",
    "    set_input = set(input_tokens)\n",
    "    set_pattern = set(pattern_tokens)\n",
    "    if not set_input or not set_pattern:\n",
    "        return 0\n",
    "    intersection = set_input.intersection(set_pattern)\n",
    "    return len(intersection) / min(len(set_input), len(set_pattern))"
   ]
  },
  {
   "cell_type": "code",
   "execution_count": 28,
   "id": "5a10e705-91ee-4452-b397-2f478e7e0d7d",
   "metadata": {},
   "outputs": [],
   "source": [
    "def get_response(user_input):\n",
    "    input_tokens = preprocess(user_input)\n",
    "    best_score = 0\n",
    "    best_intent = None\n",
    "    user_input_lower = user_input.lower()\n",
    "    if any(kw in user_input_lower for kw in ['time','what time']):\n",
    "        now = datetime.datetime.now()\n",
    "        return f\"The current time is {now.strftime('%H:%M:%S')}\"\n",
    "    if any(kw in user_input_lower for kw in ['date','what date','today']):\n",
    "        now = datetime.datetime.now()\n",
    "        return f\"Today's date is {now.strftime('%Y-%m-%d')}\"\n",
    "    for intent, data in intents.items():\n",
    "        if intent == 'default':\n",
    "            continue\n",
    "        for pattern in data.get('patterns', []):\n",
    "            pattern_tokens = preprocess(pattern)\n",
    "            score = similarity_score(input_tokens, pattern_tokens)\n",
    "            if score > best_score:\n",
    "                best_score = score\n",
    "                best_intent = intent\n",
    "    if best_score > 0:\n",
    "        return random.choice(intents[best_intent]['responses'])\n",
    "    else:\n",
    "        return random.choice(intents['default']['responses'])"
   ]
  },
  {
   "cell_type": "code",
   "execution_count": 29,
   "id": "23ab03fc-0dff-4683-972a-739b95b99818",
   "metadata": {},
   "outputs": [],
   "source": [
    "def chat(user_input):\n",
    "    \"\"\"\n",
    "    chat function for use in Jupyter Notebooks.\n",
    "    Input:\n",
    "        user_input (str) : The input query from the user.\n",
    "    Output:\n",
    "        response (str) : The chatbot's response.\n",
    "    \"\"\"\n",
    "    if user_input.lower() in ['quit','exit','bye']:\n",
    "        return \"Goodbye! Have a nice day!\"\n",
    "    else:\n",
    "        return get_response(user_input)"
   ]
  },
  {
   "cell_type": "code",
   "execution_count": 30,
   "id": "7ca16fd8-4d46-4805-9196-9e51a6e39d2a",
   "metadata": {},
   "outputs": [],
   "source": [
    "#print(chat(\"Hello, how are you?\"))\n",
    "#print(chat(\"what is the time?\"))"
   ]
  },
  {
   "cell_type": "code",
   "execution_count": 31,
   "id": "4e3ea788-554c-4ab6-835a-c06a082f47b3",
   "metadata": {},
   "outputs": [
    {
     "name": "stdout",
     "output_type": "stream",
     "text": [
      "Hello!\n"
     ]
    }
   ],
   "source": [
    "print(chat(\"Hello, how are you?\"))"
   ]
  },
  {
   "cell_type": "code",
   "execution_count": 32,
   "id": "22f7a8fe-6ece-4d73-a8a1-c4e8fc3b2602",
   "metadata": {},
   "outputs": [
    {
     "name": "stdout",
     "output_type": "stream",
     "text": [
      "The current time is 13:37:39\n"
     ]
    }
   ],
   "source": [
    "print(chat(\"what is the time?\"))"
   ]
  },
  {
   "cell_type": "code",
   "execution_count": 33,
   "id": "4d978041-4aca-4ee1-a2f6-1ed4db071f35",
   "metadata": {},
   "outputs": [
    {
     "name": "stdout",
     "output_type": "stream",
     "text": [
      "Today's date is 2025-05-06\n"
     ]
    }
   ],
   "source": [
    "print(chat(\"what is the date?\"))"
   ]
  },
  {
   "cell_type": "code",
   "execution_count": 34,
   "id": "44e6429c-815a-4ee0-82aa-4232bd585e35",
   "metadata": {},
   "outputs": [
    {
     "name": "stdout",
     "output_type": "stream",
     "text": [
      "Hi there!\n"
     ]
    }
   ],
   "source": [
    "print(chat(\"Good Morning\"))"
   ]
  },
  {
   "cell_type": "code",
   "execution_count": null,
   "id": "9a5d37ee-65ab-43a5-a553-72084f64b504",
   "metadata": {},
   "outputs": [],
   "source": [
    "print(chat(\"see you\"))"
   ]
  }
 ],
 "metadata": {
  "kernelspec": {
   "display_name": "Python 3 (ipykernel)",
   "language": "python",
   "name": "python3"
  },
  "language_info": {
   "codemirror_mode": {
    "name": "ipython",
    "version": 3
   },
   "file_extension": ".py",
   "mimetype": "text/x-python",
   "name": "python",
   "nbconvert_exporter": "python",
   "pygments_lexer": "ipython3",
   "version": "3.12.7"
  }
 },
 "nbformat": 4,
 "nbformat_minor": 5
}
