{
 "cells": [
  {
   "cell_type": "code",
   "execution_count": 1,
   "id": "02f9f008-9cfa-4790-b151-1a541f502dbd",
   "metadata": {},
   "outputs": [
    {
     "name": "stdout",
     "output_type": "stream",
     "text": [
      "Requirement already satisfied: nltk in c:\\users\\g15\\anaconda3\\lib\\site-packages (3.9.1)\n",
      "Requirement already satisfied: click in c:\\users\\g15\\anaconda3\\lib\\site-packages (from nltk) (8.1.7)\n",
      "Requirement already satisfied: joblib in c:\\users\\g15\\appdata\\roaming\\python\\python312\\site-packages (from nltk) (1.4.2)\n",
      "Requirement already satisfied: regex>=2021.8.3 in c:\\users\\g15\\anaconda3\\lib\\site-packages (from nltk) (2024.9.11)\n",
      "Requirement already satisfied: tqdm in c:\\users\\g15\\anaconda3\\lib\\site-packages (from nltk) (4.66.5)\n",
      "Requirement already satisfied: colorama in c:\\users\\g15\\appdata\\roaming\\python\\python312\\site-packages (from click->nltk) (0.4.6)\n",
      "Note: you may need to restart the kernel to use updated packages.\n"
     ]
    },
    {
     "name": "stderr",
     "output_type": "stream",
     "text": [
      "WARNING: Ignoring invalid distribution ~umpy (C:\\Users\\G15\\AppData\\Roaming\\Python\\Python312\\site-packages)\n",
      "WARNING: Ignoring invalid distribution ~umpy (C:\\Users\\G15\\AppData\\Roaming\\Python\\Python312\\site-packages)\n",
      "WARNING: Ignoring invalid distribution ~umpy (C:\\Users\\G15\\AppData\\Roaming\\Python\\Python312\\site-packages)\n",
      "WARNING: Ignoring invalid distribution ~umpy (C:\\Users\\G15\\AppData\\Roaming\\Python\\Python312\\site-packages)\n"
     ]
    }
   ],
   "source": [
    "pip install nltk"
   ]
  },
  {
   "cell_type": "code",
   "execution_count": 2,
   "id": "1355b2d0-a64e-44ea-bdc5-347c9055ceee",
   "metadata": {},
   "outputs": [
    {
     "name": "stderr",
     "output_type": "stream",
     "text": [
      "[nltk_data] Downloading package punkt to\n",
      "[nltk_data]     C:\\Users\\G15\\AppData\\Roaming\\nltk_data...\n",
      "[nltk_data]   Package punkt is already up-to-date!\n",
      "[nltk_data] Downloading package stopwords to\n",
      "[nltk_data]     C:\\Users\\G15\\AppData\\Roaming\\nltk_data...\n",
      "[nltk_data]   Package stopwords is already up-to-date!\n"
     ]
    }
   ],
   "source": [
    "import random\n",
    "import nltk\n",
    "from nltk.tokenize import word_tokenize\n",
    "from nltk.corpus import stopwords\n",
    "import string\n",
    "import datetime\n",
    "nltk.download('punkt')\n",
    "nltk.download('stopwords')\n",
    "intents = {\n",
    "    'greeting' : {\n",
    "        'patterns' : ['hello','hi','hey','good morning','good evening','how are you','hola','greetings'],\n",
    "        'responses' : ['Hello!','Hi there!','Hey!','Greetings! How can I assist you?']\n",
    "    },\n",
    "    'goodbye' : {\n",
    "        'patterns' : ['bye','see you','goodbye','see you later','farewell','take care'],\n",
    "        'responses' : ['Goodbye','See you later','Take care','Have a nice day']\n",
    "    },\n",
    "    'thanks' : {\n",
    "        'patterns' : ['thankyou','thanks','much appreciated','thanks a lot','thank you very much'],\n",
    "        'responses' : ['you\\'re welcome!','No problem!','Happy to help!','Anytime!']\n",
    "    },\n",
    "    'age' : {\n",
    "        'patterns' : ['how old are you','What is your age','age?'],\n",
    "        'responses' : ['I am a chatbot created by OpenAI.I don\\'t have an age']\n",
    "    },\n",
    "    'name' : {\n",
    "        'patterns' : ['what is your name','who are you','tell me your name','your name?'],\n",
    "        'responses' : ['I am Chatbot','You can call me Chatbot','I am your friendly Chatbot Assistance']\n",
    "    },\n",
    "    'help' : {\n",
    "        'patterns' : ['help','can you assist me','i need help','support','can you help me','what can you do'],\n",
    "        'responses' : ['I am here to help you!You can ask me anything.','Sure, I can assist you with different tasks.','Feel free to ask any questions!']\n",
    "    },\n",
    "    'time' : {\n",
    "        'patterns' : ['what time is it','tell me the time','current time','time now'],\n",
    "        'responses' : []\n",
    "    },\n",
    "    'date' : {\n",
    "        'patterns' : ['what date is it', 'tell me the data','today\\'s date','date today'],\n",
    "        'responses' : []\n",
    "    },\n",
    "    'food' : {\n",
    "        'patterns' : ['What should i eat','recommend food','i am hungry','suggest a meal','food ideas'],\n",
    "        'responses' : ['How abount a nice salad with fresh veggies?','Maybe try some pasta or a delicious sandwich!','A healthy smoothie might be great right now']\n",
    "    },\n",
    "    'bot_capabiliies' : {\n",
    "        'patterns' : ['what can you do','your capabilities','what are you good at','what do you do'],\n",
    "        'responses' : ['I can chat with you and answer simple questions.','I love chatting and helping out with basic information.','I can answer questions and keep you company']\n",
    "    },\n",
    "    'personal_opinion' : {\n",
    "        'patterns' : ['do you like music','what is your favorite movie','what do you like','favorite color'],\n",
    "        'responses' : ['I don\\'t have feelings or likes , but I enjoy chatting with you!','I don\\'t have favorites, but i like learning new things from our conversations!']\n",
    "    },\n",
    "    'default' : {\n",
    "        'responses' : [\"Sorry i din't understand that.\",\"Could you rephrase?\",\"I'm not sure I understand.\"]\n",
    "    }\n",
    "}\n",
    "stop_words = set(stopwords.words('english'))\n",
    "def preprocess(text):\n",
    "    text = text.lower()\n",
    "    text = text.translate(str.maketrans('','',string.punctuation))\n",
    "    words = word_tokenize(text)\n",
    "    filtered_words = [w for w in words if w not in stop_words]\n",
    "    return filtered_words\n",
    "def similarity_score(input_tokens, pattern_tokens):\n",
    "    set_input = set(input_tokens)\n",
    "    set_pattern = set(pattern_tokens)\n",
    "    if not set_input or not set_pattern:\n",
    "        return 0\n",
    "    intersection = set_input.intersection(set_pattern)\n",
    "    return len(intersection) / min(len(set_input), len(set_pattern))\n",
    "def get_response(user_input):\n",
    "    input_tokens = preprocess(user_input)\n",
    "    best_score = 0\n",
    "    best_intent = None\n",
    "    user_input_lower = user_input.lower()\n",
    "    if any(kw in user_input_lower for kw in ['time','what time']):\n",
    "        now = datetime.datetime.now()\n",
    "        return f\"The current time is {now.strftime('%H:%M:%S')}\"\n",
    "    if any(kw in user_input_lower for kw in ['date','what date','today']):\n",
    "        now = datetime.datetime.now()\n",
    "        return f\"Today's date is {now.strftime('%Y-%m-%d')}\"\n",
    "    for intent, data in intents.items():\n",
    "        if intent == 'default':\n",
    "            continue\n",
    "        for pattern in data.get('patterns', []):\n",
    "            pattern_tokens = preprocess(pattern)\n",
    "            score = similarity_score(input_tokens, pattern_tokens)\n",
    "        if score > best_score:\n",
    "            best_score = score\n",
    "            best_intent = intent\n",
    "    if best_score > 0:\n",
    "        return random.choice(intents[best_intent]['responses'])\n",
    "    else:\n",
    "        return random.choice(intents['default']['responses'])\n",
    "def chat(user_input):\n",
    "    \"\"\"\n",
    "    chat function for use in Jupyter Notebooks.\n",
    "    Input:\n",
    "        user_input (str) : The input query from the user.\n",
    "    Output:\n",
    "        response (str) : The chatbot's response.\n",
    "    \"\"\"\n",
    "    if user_input.lower() in ['quit','exit','bye']:\n",
    "        return \"Goodbye! Have a nice day!\"\n",
    "    else:\n",
    "        return get_response(user_input)\n",
    "#print(chat(\"Hello, how are you?\"))\n",
    "#print(chat(\"TEll me a joke\"))\n",
    "#print(chat(\"what is the time?\"))"
   ]
  },
  {
   "cell_type": "code",
   "execution_count": 3,
   "id": "ce912445-ea93-4eb9-b1e8-1552f9e142b6",
   "metadata": {},
   "outputs": [
    {
     "ename": "NameError",
     "evalue": "name 'user_input_lower' is not defined",
     "output_type": "error",
     "traceback": [
      "\u001b[1;31m---------------------------------------------------------------------------\u001b[0m",
      "\u001b[1;31mNameError\u001b[0m                                 Traceback (most recent call last)",
      "Cell \u001b[1;32mIn[3], line 1\u001b[0m\n\u001b[1;32m----> 1\u001b[0m \u001b[38;5;28mprint\u001b[39m(\u001b[43mchat\u001b[49m\u001b[43m(\u001b[49m\u001b[38;5;124;43m\"\u001b[39;49m\u001b[38;5;124;43mHello, how are you?\u001b[39;49m\u001b[38;5;124;43m\"\u001b[39;49m\u001b[43m)\u001b[49m)\n",
      "Cell \u001b[1;32mIn[2], line 104\u001b[0m, in \u001b[0;36mchat\u001b[1;34m(user_input)\u001b[0m\n\u001b[0;32m     96\u001b[0m \u001b[38;5;28;01mdef\u001b[39;00m \u001b[38;5;21mchat\u001b[39m(user_input):\n\u001b[0;32m     97\u001b[0m \u001b[38;5;250m    \u001b[39m\u001b[38;5;124;03m\"\"\"\u001b[39;00m\n\u001b[0;32m     98\u001b[0m \u001b[38;5;124;03m    chat function for use in Jupyter Notebooks.\u001b[39;00m\n\u001b[0;32m     99\u001b[0m \u001b[38;5;124;03m    Input:\u001b[39;00m\n\u001b[1;32m   (...)\u001b[0m\n\u001b[0;32m    102\u001b[0m \u001b[38;5;124;03m        response (str) : The chatbot's response.\u001b[39;00m\n\u001b[0;32m    103\u001b[0m \u001b[38;5;124;03m    \"\"\"\u001b[39;00m\n\u001b[1;32m--> 104\u001b[0m     \u001b[38;5;28;01mif\u001b[39;00m \u001b[43muser_input_lower\u001b[49m() \u001b[38;5;129;01min\u001b[39;00m [\u001b[38;5;124m'\u001b[39m\u001b[38;5;124mquit\u001b[39m\u001b[38;5;124m'\u001b[39m,\u001b[38;5;124m'\u001b[39m\u001b[38;5;124mexit\u001b[39m\u001b[38;5;124m'\u001b[39m,\u001b[38;5;124m'\u001b[39m\u001b[38;5;124mbye\u001b[39m\u001b[38;5;124m'\u001b[39m]:\n\u001b[0;32m    105\u001b[0m         \u001b[38;5;28;01mreturn\u001b[39;00m \u001b[38;5;124m\"\u001b[39m\u001b[38;5;124mGoodbye! Have a nice day!\u001b[39m\u001b[38;5;124m\"\u001b[39m\n\u001b[0;32m    106\u001b[0m     \u001b[38;5;28;01melse\u001b[39;00m:\n",
      "\u001b[1;31mNameError\u001b[0m: name 'user_input_lower' is not defined"
     ]
    }
   ],
   "source": [
    "print(chat(\"Hello, how are you?\"))"
   ]
  },
  {
   "cell_type": "code",
   "execution_count": null,
   "id": "8bfa6d67-ac20-418d-9956-f0fa588d0624",
   "metadata": {},
   "outputs": [],
   "source": []
  }
 ],
 "metadata": {
  "kernelspec": {
   "display_name": "Python 3 (ipykernel)",
   "language": "python",
   "name": "python3"
  },
  "language_info": {
   "codemirror_mode": {
    "name": "ipython",
    "version": 3
   },
   "file_extension": ".py",
   "mimetype": "text/x-python",
   "name": "python",
   "nbconvert_exporter": "python",
   "pygments_lexer": "ipython3",
   "version": "3.12.7"
  }
 },
 "nbformat": 4,
 "nbformat_minor": 5
}
